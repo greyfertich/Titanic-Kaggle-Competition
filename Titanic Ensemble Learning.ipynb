{
 "cells": [
  {
   "cell_type": "code",
   "execution_count": 1,
   "metadata": {},
   "outputs": [],
   "source": [
    "import pandas as pd\n",
    "import numpy as np\n",
    "import sklearn\n",
    "import xgboost as xgb\n",
    "import seaborn as sns\n",
    "import matplotlib.pyplot as plt\n",
    "%matplotlib inline\n",
    "import warnings\n",
    "warnings.filterwarnings('ignore')"
   ]
  },
  {
   "cell_type": "code",
   "execution_count": 2,
   "metadata": {},
   "outputs": [
    {
     "data": {
      "text/html": [
       "<div>\n",
       "<style scoped>\n",
       "    .dataframe tbody tr th:only-of-type {\n",
       "        vertical-align: middle;\n",
       "    }\n",
       "\n",
       "    .dataframe tbody tr th {\n",
       "        vertical-align: top;\n",
       "    }\n",
       "\n",
       "    .dataframe thead th {\n",
       "        text-align: right;\n",
       "    }\n",
       "</style>\n",
       "<table border=\"1\" class=\"dataframe\">\n",
       "  <thead>\n",
       "    <tr style=\"text-align: right;\">\n",
       "      <th></th>\n",
       "      <th>PassengerId</th>\n",
       "      <th>Survived</th>\n",
       "      <th>Pclass</th>\n",
       "      <th>Name</th>\n",
       "      <th>Sex</th>\n",
       "      <th>Age</th>\n",
       "      <th>SibSp</th>\n",
       "      <th>Parch</th>\n",
       "      <th>Ticket</th>\n",
       "      <th>Fare</th>\n",
       "      <th>Cabin</th>\n",
       "      <th>Embarked</th>\n",
       "    </tr>\n",
       "  </thead>\n",
       "  <tbody>\n",
       "    <tr>\n",
       "      <th>208</th>\n",
       "      <td>209</td>\n",
       "      <td>1</td>\n",
       "      <td>3</td>\n",
       "      <td>Carr, Miss. Helen \"Ellen\"</td>\n",
       "      <td>female</td>\n",
       "      <td>16.0</td>\n",
       "      <td>0</td>\n",
       "      <td>0</td>\n",
       "      <td>367231</td>\n",
       "      <td>7.7500</td>\n",
       "      <td>NaN</td>\n",
       "      <td>Q</td>\n",
       "    </tr>\n",
       "    <tr>\n",
       "      <th>403</th>\n",
       "      <td>404</td>\n",
       "      <td>0</td>\n",
       "      <td>3</td>\n",
       "      <td>Hakkarainen, Mr. Pekka Pietari</td>\n",
       "      <td>male</td>\n",
       "      <td>28.0</td>\n",
       "      <td>1</td>\n",
       "      <td>0</td>\n",
       "      <td>STON/O2. 3101279</td>\n",
       "      <td>15.8500</td>\n",
       "      <td>NaN</td>\n",
       "      <td>S</td>\n",
       "    </tr>\n",
       "    <tr>\n",
       "      <th>343</th>\n",
       "      <td>344</td>\n",
       "      <td>0</td>\n",
       "      <td>2</td>\n",
       "      <td>Sedgwick, Mr. Charles Frederick Waddington</td>\n",
       "      <td>male</td>\n",
       "      <td>25.0</td>\n",
       "      <td>0</td>\n",
       "      <td>0</td>\n",
       "      <td>244361</td>\n",
       "      <td>13.0000</td>\n",
       "      <td>NaN</td>\n",
       "      <td>S</td>\n",
       "    </tr>\n",
       "    <tr>\n",
       "      <th>340</th>\n",
       "      <td>341</td>\n",
       "      <td>1</td>\n",
       "      <td>2</td>\n",
       "      <td>Navratil, Master. Edmond Roger</td>\n",
       "      <td>male</td>\n",
       "      <td>2.0</td>\n",
       "      <td>1</td>\n",
       "      <td>1</td>\n",
       "      <td>230080</td>\n",
       "      <td>26.0000</td>\n",
       "      <td>F2</td>\n",
       "      <td>S</td>\n",
       "    </tr>\n",
       "    <tr>\n",
       "      <th>255</th>\n",
       "      <td>256</td>\n",
       "      <td>1</td>\n",
       "      <td>3</td>\n",
       "      <td>Touma, Mrs. Darwis (Hanne Youssef Razi)</td>\n",
       "      <td>female</td>\n",
       "      <td>29.0</td>\n",
       "      <td>0</td>\n",
       "      <td>2</td>\n",
       "      <td>2650</td>\n",
       "      <td>15.2458</td>\n",
       "      <td>NaN</td>\n",
       "      <td>C</td>\n",
       "    </tr>\n",
       "  </tbody>\n",
       "</table>\n",
       "</div>"
      ],
      "text/plain": [
       "     PassengerId  Survived  Pclass  \\\n",
       "208          209         1       3   \n",
       "403          404         0       3   \n",
       "343          344         0       2   \n",
       "340          341         1       2   \n",
       "255          256         1       3   \n",
       "\n",
       "                                           Name     Sex   Age  SibSp  Parch  \\\n",
       "208                   Carr, Miss. Helen \"Ellen\"  female  16.0      0      0   \n",
       "403              Hakkarainen, Mr. Pekka Pietari    male  28.0      1      0   \n",
       "343  Sedgwick, Mr. Charles Frederick Waddington    male  25.0      0      0   \n",
       "340              Navratil, Master. Edmond Roger    male   2.0      1      1   \n",
       "255     Touma, Mrs. Darwis (Hanne Youssef Razi)  female  29.0      0      2   \n",
       "\n",
       "               Ticket     Fare Cabin Embarked  \n",
       "208            367231   7.7500   NaN        Q  \n",
       "403  STON/O2. 3101279  15.8500   NaN        S  \n",
       "343            244361  13.0000   NaN        S  \n",
       "340            230080  26.0000    F2        S  \n",
       "255              2650  15.2458   NaN        C  "
      ]
     },
     "execution_count": 2,
     "metadata": {},
     "output_type": "execute_result"
    }
   ],
   "source": [
    "from sklearn.model_selection import train_test_split\n",
    "features = pd.read_csv('train.csv')\n",
    "targets = features['Survived']\n",
    "train, cvs, y_train, y_cvs = train_test_split(features, targets, test_size=0.4)\n",
    "# train = pd.read_csv('train.csv')[:600]\n",
    "# cvs = pd.read_csv('train.csv')[600:]\n",
    "test = pd.read_csv('test.csv')\n",
    "train.head()"
   ]
  },
  {
   "cell_type": "code",
   "execution_count": 3,
   "metadata": {},
   "outputs": [],
   "source": [
    "train['FarePerYear'] = train['Fare']/train['Age']\n",
    "test['FarePerYear'] = test['Fare']/test['Age']\n",
    "cvs['FarePerYear'] = cvs['Fare']/cvs['Age']\n",
    "train['Worth'] = train['Age']/train['Pclass']\n",
    "test['Worth'] = test['Age']/test['Pclass']\n",
    "cvs['Worth'] = cvs['Age']/cvs['Pclass']"
   ]
  },
  {
   "cell_type": "code",
   "execution_count": 4,
   "metadata": {},
   "outputs": [
    {
     "data": {
      "text/plain": [
       "array([[<matplotlib.axes._subplots.AxesSubplot object at 0x1035c82b0>,\n",
       "        <matplotlib.axes._subplots.AxesSubplot object at 0x102b5ae48>,\n",
       "        <matplotlib.axes._subplots.AxesSubplot object at 0x102bad518>],\n",
       "       [<matplotlib.axes._subplots.AxesSubplot object at 0x102bd5ba8>,\n",
       "        <matplotlib.axes._subplots.AxesSubplot object at 0x108d41278>,\n",
       "        <matplotlib.axes._subplots.AxesSubplot object at 0x108d412b0>],\n",
       "       [<matplotlib.axes._subplots.AxesSubplot object at 0x108d8df98>,\n",
       "        <matplotlib.axes._subplots.AxesSubplot object at 0x108dbf668>,\n",
       "        <matplotlib.axes._subplots.AxesSubplot object at 0x109213cf8>]],\n",
       "      dtype=object)"
      ]
     },
     "execution_count": 4,
     "metadata": {},
     "output_type": "execute_result"
    },
    {
     "data": {
      "image/png": "[encoded data removed]",
      "text/plain": [
       "<Figure size 1440x1080 with 9 Axes>"
      ]
     },
     "metadata": {},
     "output_type": "display_data"
    }
   ],
   "source": [
    "train.hist(bins=50, figsize=(20,15))"
   ]
  },
  {
   "cell_type": "code",
   "execution_count": 5,
   "metadata": {},
   "outputs": [
    {
     "name": "stdout",
     "output_type": "stream",
     "text": [
      "0.7222222222222222\n"
     ]
    }
   ],
   "source": [
    "women = 0\n",
    "total = 0\n",
    "for index, row in train.iterrows():\n",
    "    if row['Sex'] == 'female':\n",
    "        women += row['Survived']\n",
    "        total += 1\n",
    "print(women/total)"
   ]
  },
  {
   "cell_type": "code",
   "execution_count": 6,
   "metadata": {},
   "outputs": [
    {
     "data": {
      "text/plain": [
       "<matplotlib.axes._subplots.AxesSubplot at 0x109389cf8>"
      ]
     },
     "execution_count": 6,
     "metadata": {},
     "output_type": "execute_result"
    },
    {
     "data": {
      "image/png": "[encoded data removed]",
      "text/plain": [
       "<Figure size 792x648 with 2 Axes>"
      ]
     },
     "metadata": {},
     "output_type": "display_data"
    }
   ],
   "source": [
    "sns.set_style('white')\n",
    "sns.set_context('paper', font_scale=2)\n",
    "corr_matrix = train.corr()\n",
    "mask = np.zeros_like(corr_matrix, dtype=np.bool)\n",
    "mask[np.triu_indices_from(mask)] = True\n",
    "f, ax = plt.subplots(figsize=(11,9))\n",
    "cmap = sns.diverging_palette(220, 10, as_cmap=True)\n",
    "sns.heatmap(corr_matrix, mask=mask, cmap=cmap, vmax=1.0, center=0,\n",
    "           square=True, linewidths=0.5, cbar_kws={'shrink':0.5})"
   ]
  },
  {
   "cell_type": "code",
   "execution_count": 7,
   "metadata": {},
   "outputs": [],
   "source": [
    "from sklearn.base import BaseEstimator, TransformerMixin\n",
    "\n",
    "# A class to select numerical or categorical columns \n",
    "# since Scikit-Learn doesn't handle DataFrames yet\n",
    "class DataFrameSelector(BaseEstimator, TransformerMixin):\n",
    "    def __init__(self, attribute_names):\n",
    "        self.attribute_names = attribute_names\n",
    "    def fit(self, X, y=None):\n",
    "        return self\n",
    "    def transform(self, X):\n",
    "        return X[self.attribute_names]"
   ]
  },
  {
   "cell_type": "code",
   "execution_count": 8,
   "metadata": {},
   "outputs": [],
   "source": [
    "from sklearn.pipeline import Pipeline\n",
    "from sklearn.preprocessing import Imputer\n",
    "\n",
    "num_pipeline = Pipeline([\n",
    "        (\"select_numeric\", DataFrameSelector([\"FarePerYear\",\"Age\", \"SibSp\", \"Parch\", \"Fare\"])),\n",
    "        (\"imputer\", Imputer(strategy=\"median\")),\n",
    "    ])"
   ]
  },
  {
   "cell_type": "code",
   "execution_count": 9,
   "metadata": {},
   "outputs": [],
   "source": [
    "class MostFrequentImputer(BaseEstimator, TransformerMixin):\n",
    "    def fit(self, X, y=None):\n",
    "        self.most_frequent_ = pd.Series([X[c].value_counts().index[0] for c in X],\n",
    "                                       index=X.columns)\n",
    "        return self\n",
    "    def transform(self, X, y=None):\n",
    "        return X.fillna(self.most_frequent_)"
   ]
  },
  {
   "cell_type": "code",
   "execution_count": 10,
   "metadata": {},
   "outputs": [],
   "source": [
    "from future_encoders import OneHotEncoder\n",
    "\n",
    "cat_pipeline = Pipeline([\n",
    "    ('select_cat', DataFrameSelector(['Pclass', 'Sex', 'Embarked'])),\n",
    "    ('imputer', MostFrequentImputer()),\n",
    "    ('cat_encoder', OneHotEncoder(sparse=False))\n",
    "])"
   ]
  },
  {
   "cell_type": "code",
   "execution_count": 11,
   "metadata": {},
   "outputs": [],
   "source": [
    "from sklearn.pipeline import FeatureUnion\n",
    "preprocess_pipeline = FeatureUnion(transformer_list=[\n",
    "    ('num_pipeline', num_pipeline),\n",
    "    ('cat_pipeline', cat_pipeline),\n",
    "])"
   ]
  },
  {
   "cell_type": "code",
   "execution_count": 12,
   "metadata": {},
   "outputs": [],
   "source": [
    "X_train = preprocess_pipeline.fit_transform(train)\n",
    "y_train = train['Survived']\n",
    "X_cv = preprocess_pipeline.fit_transform(cvs)\n",
    "y_cv = cvs['Survived']\n",
    "X_test = preprocess_pipeline.fit_transform(test)"
   ]
  },
  {
   "cell_type": "code",
   "execution_count": 13,
   "metadata": {},
   "outputs": [
    {
     "data": {
      "text/plain": [
       "XGBClassifier(base_score=0.5, booster='gbtree', colsample_bylevel=1,\n",
       "       colsample_bytree=1, gamma=0, learning_rate=0.1, max_delta_step=0,\n",
       "       max_depth=3, min_child_weight=1, missing=None, n_estimators=100,\n",
       "       n_jobs=1, nthread=None, objective='binary:logistic', random_state=0,\n",
       "       reg_alpha=0, reg_lambda=1, scale_pos_weight=1, seed=None,\n",
       "       silent=True, subsample=1)"
      ]
     },
     "execution_count": 13,
     "metadata": {},
     "output_type": "execute_result"
    }
   ],
   "source": [
    "import xgboost as xgb\n",
    "\n",
    "xgb_clf = xgb.XGBClassifier()\n",
    "xgb_clf.fit(X_train, y_train)"
   ]
  },
  {
   "cell_type": "code",
   "execution_count": 20,
   "metadata": {},
   "outputs": [
    {
     "data": {
      "text/plain": [
       "GridSearchCV(cv=5, error_score='raise',\n",
       "       estimator=XGBClassifier(base_score=0.5, booster='gbtree', colsample_bylevel=1,\n",
       "       colsample_bytree=1, gamma=0, learning_rate=0.1, max_delta_step=0,\n",
       "       max_depth=3, min_child_weight=1, missing=None, n_estimators=100,\n",
       "       n_jobs=1, nthread=None, objective='binary:logistic', random_state=0,\n",
       "       reg_alpha=0, reg_lambda=1, scale_pos_weight=1, seed=None,\n",
       "       silent=True, subsample=1),\n",
       "       fit_params=None, iid=True, n_jobs=1,\n",
       "       param_grid=[{'max_depth': [2, 3, 4, 5, 10], 'n_estimators': [10, 50, 100, 500], 'min_child_weight': [1, 2, 3, 5]}],\n",
       "       pre_dispatch='2*n_jobs', refit=True, return_train_score='warn',\n",
       "       scoring='neg_mean_squared_error', verbose=0)"
      ]
     },
     "execution_count": 20,
     "metadata": {},
     "output_type": "execute_result"
    }
   ],
   "source": [
    "from sklearn.model_selection import GridSearchCV\n",
    "\n",
    "param_grid = [\n",
    "    {'max_depth': [2,3,4,5,10], 'n_estimators': [10,50,100,500],\n",
    "    'min_child_weight': [1,2,3,5]}\n",
    "]\n",
    "\n",
    "grid_search = GridSearchCV(xgb_clf, param_grid, cv=5,\n",
    "                          scoring='neg_mean_squared_error')\n",
    "grid_search.fit(X_train, y_train)"
   ]
  },
  {
   "cell_type": "code",
   "execution_count": 21,
   "metadata": {},
   "outputs": [
    {
     "data": {
      "text/plain": [
       "{'max_depth': 3, 'min_child_weight': 3, 'n_estimators': 10}"
      ]
     },
     "execution_count": 21,
     "metadata": {},
     "output_type": "execute_result"
    }
   ],
   "source": [
    "grid_search.best_params_"
   ]
  },
  {
   "cell_type": "code",
   "execution_count": 24,
   "metadata": {},
   "outputs": [
    {
     "name": "stdout",
     "output_type": "stream",
     "text": [
      "0.48188145619821826 {'max_depth': 2, 'min_child_weight': 1, 'n_estimators': 10}\n",
      "0.4391854905744111 {'max_depth': 2, 'min_child_weight': 1, 'n_estimators': 50}\n",
      "0.44553548978636487 {'max_depth': 2, 'min_child_weight': 1, 'n_estimators': 100}\n",
      "0.4660777450377519 {'max_depth': 2, 'min_child_weight': 1, 'n_estimators': 500}\n",
      "0.48188145619821826 {'max_depth': 2, 'min_child_weight': 2, 'n_estimators': 10}\n",
      "0.44553548978636487 {'max_depth': 2, 'min_child_weight': 2, 'n_estimators': 50}\n",
      "0.44553548978636487 {'max_depth': 2, 'min_child_weight': 2, 'n_estimators': 100}\n",
      "0.47007848575693784 {'max_depth': 2, 'min_child_weight': 2, 'n_estimators': 500}\n",
      "0.48188145619821826 {'max_depth': 2, 'min_child_weight': 3, 'n_estimators': 10}\n",
      "0.4391854905744111 {'max_depth': 2, 'min_child_weight': 3, 'n_estimators': 50}\n",
      "0.44131230926308423 {'max_depth': 2, 'min_child_weight': 3, 'n_estimators': 100}\n",
      "0.45592232730951643 {'max_depth': 2, 'min_child_weight': 3, 'n_estimators': 500}\n",
      "0.48188145619821826 {'max_depth': 2, 'min_child_weight': 5, 'n_estimators': 10}\n",
      "0.4391854905744111 {'max_depth': 2, 'min_child_weight': 5, 'n_estimators': 50}\n",
      "0.44131230926308423 {'max_depth': 2, 'min_child_weight': 5, 'n_estimators': 100}\n",
      "0.4538639767191222 {'max_depth': 2, 'min_child_weight': 5, 'n_estimators': 500}\n",
      "0.4327423224079155 {'max_depth': 3, 'min_child_weight': 1, 'n_estimators': 10}\n",
      "0.44971901339751685 {'max_depth': 3, 'min_child_weight': 1, 'n_estimators': 50}\n",
      "0.45797142674555125 {'max_depth': 3, 'min_child_weight': 1, 'n_estimators': 100}\n",
      "0.4876758301944082 {'max_depth': 3, 'min_child_weight': 1, 'n_estimators': 500}\n",
      "0.4327423224079155 {'max_depth': 3, 'min_child_weight': 2, 'n_estimators': 10}\n",
      "0.4538639767191222 {'max_depth': 3, 'min_child_weight': 2, 'n_estimators': 50}\n",
      "0.460011398653757 {'max_depth': 3, 'min_child_weight': 2, 'n_estimators': 100}\n",
      "0.47007848575693784 {'max_depth': 3, 'min_child_weight': 2, 'n_estimators': 500}\n",
      "0.43057317430021846 {'max_depth': 3, 'min_child_weight': 3, 'n_estimators': 10}\n",
      "0.44971901339751685 {'max_depth': 3, 'min_child_weight': 3, 'n_estimators': 50}\n",
      "0.45179624853164274 {'max_depth': 3, 'min_child_weight': 3, 'n_estimators': 100}\n",
      "0.4857520521621862 {'max_depth': 3, 'min_child_weight': 3, 'n_estimators': 500}\n",
      "0.46808238975153255 {'max_depth': 3, 'min_child_weight': 5, 'n_estimators': 10}\n",
      "0.4538639767191222 {'max_depth': 3, 'min_child_weight': 5, 'n_estimators': 50}\n",
      "0.4476321389659214 {'max_depth': 3, 'min_child_weight': 5, 'n_estimators': 100}\n",
      "0.46808238975153255 {'max_depth': 3, 'min_child_weight': 5, 'n_estimators': 500}\n",
      "0.44131230926308423 {'max_depth': 4, 'min_child_weight': 1, 'n_estimators': 10}\n",
      "0.4640644408306304 {'max_depth': 4, 'min_child_weight': 1, 'n_estimators': 50}\n",
      "0.47206614149668213 {'max_depth': 4, 'min_child_weight': 1, 'n_estimators': 100}\n",
      "0.47797951784114706 {'max_depth': 4, 'min_child_weight': 1, 'n_estimators': 500}\n",
      "0.4391854905744111 {'max_depth': 4, 'min_child_weight': 2, 'n_estimators': 10}\n",
      "0.4660777450377519 {'max_depth': 4, 'min_child_weight': 2, 'n_estimators': 50}\n",
      "0.4640644408306304 {'max_depth': 4, 'min_child_weight': 2, 'n_estimators': 100}\n",
      "0.4740454631399772 {'max_depth': 4, 'min_child_weight': 2, 'n_estimators': 500}\n",
      "0.4434289272060925 {'max_depth': 4, 'min_child_weight': 3, 'n_estimators': 10}\n",
      "0.45179624853164274 {'max_depth': 4, 'min_child_weight': 3, 'n_estimators': 50}\n",
      "0.45797142674555125 {'max_depth': 4, 'min_child_weight': 3, 'n_estimators': 100}\n",
      "0.4857520521621862 {'max_depth': 4, 'min_child_weight': 3, 'n_estimators': 500}\n",
      "0.47007848575693784 {'max_depth': 4, 'min_child_weight': 5, 'n_estimators': 10}\n",
      "0.44971901339751685 {'max_depth': 4, 'min_child_weight': 5, 'n_estimators': 50}\n",
      "0.4434289272060925 {'max_depth': 4, 'min_child_weight': 5, 'n_estimators': 100}\n",
      "0.476016554648707 {'max_depth': 4, 'min_child_weight': 5, 'n_estimators': 500}\n",
      "0.45179624853164274 {'max_depth': 5, 'min_child_weight': 1, 'n_estimators': 10}\n",
      "0.47993445245333805 {'max_depth': 5, 'min_child_weight': 1, 'n_estimators': 50}\n",
      "0.48382062482261473 {'max_depth': 5, 'min_child_weight': 1, 'n_estimators': 100}\n",
      "0.47993445245333805 {'max_depth': 5, 'min_child_weight': 1, 'n_estimators': 500}\n",
      "0.4538639767191222 {'max_depth': 5, 'min_child_weight': 2, 'n_estimators': 10}\n",
      "0.45179624853164274 {'max_depth': 5, 'min_child_weight': 2, 'n_estimators': 50}\n",
      "0.4740454631399772 {'max_depth': 5, 'min_child_weight': 2, 'n_estimators': 100}\n",
      "0.47007848575693784 {'max_depth': 5, 'min_child_weight': 2, 'n_estimators': 500}\n",
      "0.45179624853164274 {'max_depth': 5, 'min_child_weight': 3, 'n_estimators': 10}\n",
      "0.4640644408306304 {'max_depth': 5, 'min_child_weight': 3, 'n_estimators': 50}\n",
      "0.47007848575693784 {'max_depth': 5, 'min_child_weight': 3, 'n_estimators': 100}\n",
      "0.48188145619821826 {'max_depth': 5, 'min_child_weight': 3, 'n_estimators': 500}\n",
      "0.47206614149668213 {'max_depth': 5, 'min_child_weight': 5, 'n_estimators': 10}\n",
      "0.45592232730951643 {'max_depth': 5, 'min_child_weight': 5, 'n_estimators': 50}\n",
      "0.44131230926308423 {'max_depth': 5, 'min_child_weight': 5, 'n_estimators': 100}\n",
      "0.47206614149668213 {'max_depth': 5, 'min_child_weight': 5, 'n_estimators': 500}\n",
      "0.47007848575693784 {'max_depth': 10, 'min_child_weight': 1, 'n_estimators': 10}\n",
      "0.46808238975153255 {'max_depth': 10, 'min_child_weight': 1, 'n_estimators': 50}\n",
      "0.47206614149668213 {'max_depth': 10, 'min_child_weight': 1, 'n_estimators': 100}\n",
      "0.47797951784114706 {'max_depth': 10, 'min_child_weight': 1, 'n_estimators': 500}\n",
      "0.4476321389659214 {'max_depth': 10, 'min_child_weight': 2, 'n_estimators': 10}\n",
      "0.4740454631399772 {'max_depth': 10, 'min_child_weight': 2, 'n_estimators': 50}\n",
      "0.48188145619821826 {'max_depth': 10, 'min_child_weight': 2, 'n_estimators': 100}\n",
      "0.4876758301944082 {'max_depth': 10, 'min_child_weight': 2, 'n_estimators': 500}\n",
      "0.4434289272060925 {'max_depth': 10, 'min_child_weight': 3, 'n_estimators': 10}\n",
      "0.46808238975153255 {'max_depth': 10, 'min_child_weight': 3, 'n_estimators': 50}\n",
      "0.476016554648707 {'max_depth': 10, 'min_child_weight': 3, 'n_estimators': 100}\n",
      "0.4857520521621862 {'max_depth': 10, 'min_child_weight': 3, 'n_estimators': 500}\n",
      "0.47206614149668213 {'max_depth': 10, 'min_child_weight': 5, 'n_estimators': 10}\n",
      "0.45797142674555125 {'max_depth': 10, 'min_child_weight': 5, 'n_estimators': 50}\n",
      "0.460011398653757 {'max_depth': 10, 'min_child_weight': 5, 'n_estimators': 100}\n",
      "0.47797951784114706 {'max_depth': 10, 'min_child_weight': 5, 'n_estimators': 500}\n"
     ]
    }
   ],
   "source": [
    "cvres = grid_search.cv_results_\n",
    "for mean_score, params in zip(cvres['mean_test_score'], cvres['params']):\n",
    "    print(np.sqrt(-mean_score), params)"
   ]
  },
  {
   "cell_type": "code",
   "execution_count": 26,
   "metadata": {},
   "outputs": [
    {
     "name": "stdout",
     "output_type": "stream",
     "text": [
      "Training set accuracy: 0.8235294117647058\n"
     ]
    }
   ],
   "source": [
    "xgb_clf = grid_search.best_estimator_\n",
    "from sklearn.metrics import accuracy_score\n",
    "\n",
    "xgb_predictions = xgb_clf.predict(X_test)\n",
    "accuracy = accuracy_score(xgb_clf.predict(X_cv), y_cv)\n",
    "print('Training set accuracy:', accuracy)"
   ]
  },
  {
   "cell_type": "code",
   "execution_count": 28,
   "metadata": {},
   "outputs": [],
   "source": [
    "d = {'PassengerId':[i+892 for i in range(len(list(xgb_predictions)))],\n",
    "       'Survived': list(xgb_predictions)}\n",
    "df = pd.DataFrame(data=d, index=None)\n",
    "df.to_csv('xgb_cv_submission.csv', index=False)"
   ]
  },
  {
   "cell_type": "code",
   "execution_count": null,
   "metadata": {},
   "outputs": [],
   "source": []
  }
 ],
 "metadata": {
  "kernelspec": {
   "display_name": "Python 3",
   "language": "python",
   "name": "python3"
  },
  "language_info": {
   "codemirror_mode": {
    "name": "ipython",
    "version": 3
   },
   "file_extension": ".py",
   "mimetype": "text/x-python",
   "name": "python",
   "nbconvert_exporter": "python",
   "pygments_lexer": "ipython3",
   "version": "3.6.5"
  }
 },
 "nbformat": 4,
 "nbformat_minor": 2
}
